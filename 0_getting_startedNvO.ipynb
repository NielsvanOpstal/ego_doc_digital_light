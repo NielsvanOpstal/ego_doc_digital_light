{
 "cells": [
  {
   "cell_type": "markdown",
   "metadata": {},
   "source": [
    "\n"
   ]
  },
  {
   "cell_type": "markdown",
   "metadata": {},
   "source": [
    "## 0 Getting started: Zoeken op basis van Text & Data Mining in een Notebook\n",
    "\n",
    "\n",
    "In de handleiding staat hoe je alle benodigde elementen op je computer kunt installeren: de modules code en de basisbestanddelen die bij het corpus horen. Hier pikken we de draad weer op en kun je de modules toepassen. In computertaal heet dat 'de code runnen'. We maken daarbij gebruik van de programmeertaal Python.\n",
    "\n",
    "Je zult je misschien afvragen waarom je met Python zou moeten zoeken, als je passages met een trefwoord ook in een gewone online zoekomgeving zou kunnen vinden. Het verschil is dat je met Python code veel flexibeler bent, en zelf kunt bepalen op welke manier gezocht wordt en in welke vorm de resultaten getoond worden. Ook is het makkelijker de resultaten te exporteren om ze verder te kunnen bewerken.\n",
    "\n",
    "Het corpus bestaat uit 577 gepubliceerde en gedigitaliseerde memoires van Indie-veteranen die de basis vormden van het boek \"Soldaat in Indonesie\". Het feit dat je toegang krijgt tot documenten waarop copyright berust betekent dat je er alleen mee mag werken in de context van textmining. Je mag ze dus niet nadat ze gedownload zijn op je computer verder verspreiden en met anderen delen. Daartoe heb je je gecommitteerd bij de verklaring voor toegang tot de database. \n",
    "\n",
    "Dit is geen handleiding voor het leren programmeren in Python. De code die nodig is voor het uitvoeren van een aantal eenvoudige opdrachten is al geschreven door iemand die de taal beheerst, en wordt in kant en klare herbruikbare ‘pakketjes’ aangeboden, oftewel in 'modules'.\n",
    "\n",
    "Deze worden gepresenteerd in een zogenaamd 'notebook': een omgeving waarin je 'notes' aan de code kunt toevoegen, dat komt neer op een uitleg over de stappen die je moet nemen. Deze tekst kun je veranderen. Dubbelklik bijvoorbeeld op deze tekst en je zult zien dat het veld veranderd. Om het terug te veranderen naar de gewone tekst druk je op de [control] toets en tegelijkertijd op [enter]\n",
    "\n",
    "Normaal gesproken werk je als je zelf code schrijft in de zogenaamde 'command line', direct op het niveau van het besturingssysteem van je computer waar de programmeertaal is geinstalleerd. Maar om dit onder de knie te krijgen moet je veel tijd investeren in het leren van de basale commandos. Een ander nadeel van  de command line als werkomgeving, is dat je met een zwart scherm als achtergrond werkt, waar allerlei hele kleine letters en cijfers op verschijnen. Voor een eerste kennismaking met python is dat niet geschikt. \n",
    "\n",
    "Een notebook open je via je browser, en lijkt veel meer op een standaard computer omgeving, waarbij velden met code en uitleg elkaar afwisselen. Je wordt aan de hand meegenomen, zodat je ook zonder programmeerkennis, text mining kunt uitproberen. \n",
    "\n",
    "Traditioneel begin je je avontuur met programmeren door \"Hello World\" te printen. Om dit te doen klik je op het code veld hier onder en druk je op [shift] en [enter] tegelijkertijd. Dit activeert de code.\n",
    "\n",
    "\n"
   ]
  },
  {
   "cell_type": "code",
   "execution_count": null,
   "metadata": {},
   "outputs": [],
   "source": [
    "# Druk op shift + enter\n",
    "print(\"Hello world\")\n",
    "\n"
   ]
  },
  {
   "cell_type": "markdown",
   "metadata": {},
   "source": [
    "Zoals je ziet wordt de tekst die achter het hekje (#) staat niet uitgevoerd. Dit worden comments genoemd. In de notebooks zal door middel van comments uitgelegd worden wat de code doet. Veel code zal in verschillende notebooks worden herhaald. Met het oog op overzichtelijkheid zal daarom niet alle code die herhaald wordt telkens opnieuw worden uitgelegd. Als je het resultaat wilt wissen om het commando te herhalen, hoef je alleen links van het resultaat, waar een grijs veld verschijnt, dubbel te klikken. Mocht dat niet lukken (soms is dat een euvel van een browser) ga je naar het menu boven, kies je 'cell' ga je naar 'current outputs' en kies je 'clear'.\n",
    "\n",
    "Vul hieronder achter het hekje de datum en tussen de aanhalingstekens (\"\") je naam in. Activeer daarna opnieuw de code (shift enter). Je zult zien dat de tekst achter het haakje niet wordt uitgevoerd en de code zonder haakje wel.\n"
   ]
  },
  {
   "cell_type": "code",
   "execution_count": null,
   "metadata": {},
   "outputs": [],
   "source": [
    "# 19 januari 2022\n",
    "print (\"Stef\")"
   ]
  },
  {
   "cell_type": "markdown",
   "metadata": {},
   "source": [
    "## Zit alles erin?\n",
    "\n",
    "\n",
    "Hier is een stukje code geschreven om te checken of alles op de goede plek zit. \n",
    "Krijg je te zien \"Alles is gelukt!\" dan staat er in het veld nog een uitleg van wat iedere module betekent. Daarna kun je door naar het echte werk, de eerste notebook. "
   ]
  },
  {
   "cell_type": "code",
   "execution_count": null,
   "metadata": {
    "scrolled": true
   },
   "outputs": [],
   "source": [
    "# Druk op shift + enter\n",
    "# import kitlvTdm\n",
    "import os\n",
    "import nltk\n",
    "import re\n",
    "import pandas \n",
    "import matplotlib\n",
    "print (\"Alles is gelukt\")"
   ]
  },
  {
   "cell_type": "markdown",
   "metadata": {},
   "source": [
    "## Hoe weet ik of het commando wordt uitgevoerd?\n",
    "In de vierkante haken linksboven buiten het veld, verschijnt dan een asterisk. Dit betekent dat de zoekactie in uitvoering is. Deze is afgerond als de asterisk verandert in een getal.\n"
   ]
  },
  {
   "cell_type": "markdown",
   "metadata": {},
   "source": [
    "## kitlvTdm\n",
    "KitlvTdm staat voor Koninklijk Instituut voor Taal, Land en Volkenkunde Text and Data Mining. Deze module is door Peter Verhaar van het Center for Digital Scholarship (Universiteit Leiden) ontwikkeld voor deze verzameling memoires. Hier volgt een uitleg van de commando's/functionaliteiten die je gaat gebruiken:  \n",
    "\n",
    "## os\n",
    "De module \"os\" staat voor 'operating system' en geeft de programmeur de mogelijkheid om verbinding te maken tussen de software van het programma en het besturings systeem. Daarmee is het mogelijk bestanden te lezen zoals in dit geval de ego-documente van de Indie veteranen.\n",
    "\n",
    "## nltk\n",
    "Nltk is een afkorting voor Natural Language Tool Kit. Dit is een verzameling modules waarmee je allerlei verschillende functionaliteiten hebt voor het uitvoeren van Natural Language Processing, een specifiek veld van data science en artificial inteligence dat zich bezig houdt met het analyzeren en modelleren van taal. De functionaliteiten in deze module maken het mogelijk om bijvoorbeeld tekst op te splitsen in paragrafen, paragrafen in zinnen en zinnen in woorden. Maar ook om stammen van werkwoorden te vinden, te checken of zinnen correct zijn en uiteindelijk zelfs om computers daadwerkelijk tekst te laten schrijven of begrijpen. De module kitlvTdm bouwt als het ware voort op deze module. \n",
    "\n",
    "## re \n",
    "Re is een afkorting voor 'regular expression'. Dit wordt gebruikt voor het zoeken naar woorden die voldoen aan een  specifieke sequentie. In dit notebook wordt het gebruikt om te zoeken naar tekstbestanden die eindigen op .txt en dus niet bijvoorbeeld een word document zijn.\n",
    "\n",
    "## pandas\n",
    "pandas staat voor 'panel data' en wordt gebruikt om data op een overzichtelijke manier op te slaan in een tabel met extra functionaliteiten. In deze notebooks zal dit worden gebruikt om de gevonden resultaten op te slaan in een Excel bestand.\n",
    "\n",
    "##  matplotlib\n",
    " matplotlib staat voor een verzameling code die het mogelijk maakt data in grafieken om te zetten"
   ]
  },
  {
   "cell_type": "markdown",
   "metadata": {},
   "source": [
    "# Ga nu naar de volgende module  1. zoeken \n"
   ]
  }
 ],
 "metadata": {
  "kernelspec": {
   "display_name": "Python 3 (ipykernel)",
   "language": "python",
   "name": "python3"
  },
  "language_info": {
   "codemirror_mode": {
    "name": "ipython",
    "version": 3
   },
   "file_extension": ".py",
   "mimetype": "text/x-python",
   "name": "python",
   "nbconvert_exporter": "python",
   "pygments_lexer": "ipython3",
   "version": "3.9.7"
  }
 },
 "nbformat": 4,
 "nbformat_minor": 4
}
