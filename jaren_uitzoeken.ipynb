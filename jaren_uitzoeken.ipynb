{
 "cells": [
  {
   "cell_type": "code",
   "execution_count": 43,
   "id": "460391d8",
   "metadata": {},
   "outputs": [],
   "source": [
    "\n",
    "import kitlvTdm\n",
    "from importlib import reload\n",
    "reload(kitlvTdm)\n",
    "from kitlvTdm import *\n",
    "import pandas as pd"
   ]
  },
  {
   "cell_type": "code",
   "execution_count": 44,
   "id": "e7c299a4",
   "metadata": {},
   "outputs": [],
   "source": [
    "path = 'Corpus' "
   ]
  },
  {
   "cell_type": "code",
   "execution_count": 55,
   "id": "09b2843f",
   "metadata": {},
   "outputs": [
    {
     "name": "stdout",
     "output_type": "stream",
     "text": [
      "unknown\n"
     ]
    }
   ],
   "source": [
    "df = pd.DataFrame(columns = [\"probleem\", \"corpus_nr\", \"titel\", \"jaar\"])\n",
    "for file in os.listdir( path ):\n",
    "    title = showTitle(file)\n",
    "    year = showYear(file)\n",
    "    \n",
    "    if title == \"Unknown\":\n",
    "        print(\"unknown\")\n",
    "        df.loc[len(df.index)] = [\"no metadata\", file, \"\", \"\"]\n",
    "    elif year == \"\":\n",
    "        df.loc[len(df.index)] = [\"no year\", file, title, \"\"]\n",
    "    elif year[0] == 2:\n",
    "        df.loc[len(df.index)] = [\"year>2000\", file, title, year]\n",
    "    elif len(year) > 4:\n",
    "        df.loc[len(df.index)] = [\"wrong format year\", file, title, year]\n",
    "    else:\n",
    "        df.loc[len(df.index)] = [\"no problem\", file, title, year]\n"
   ]
  },
  {
   "cell_type": "code",
   "execution_count": 59,
   "id": "234c1a5c",
   "metadata": {},
   "outputs": [],
   "source": [
    "df = df[[\"probleem\", \"corpus_nr\", \"jaar\", \"titel\"]]"
   ]
  },
  {
   "cell_type": "code",
   "execution_count": 60,
   "id": "1e20fafa",
   "metadata": {},
   "outputs": [
    {
     "data": {
      "text/html": [
       "<div>\n",
       "<style scoped>\n",
       "    .dataframe tbody tr th:only-of-type {\n",
       "        vertical-align: middle;\n",
       "    }\n",
       "\n",
       "    .dataframe tbody tr th {\n",
       "        vertical-align: top;\n",
       "    }\n",
       "\n",
       "    .dataframe thead th {\n",
       "        text-align: right;\n",
       "    }\n",
       "</style>\n",
       "<table border=\"1\" class=\"dataframe\">\n",
       "  <thead>\n",
       "    <tr style=\"text-align: right;\">\n",
       "      <th></th>\n",
       "      <th>probleem</th>\n",
       "      <th>corpus_nr</th>\n",
       "      <th>jaar</th>\n",
       "      <th>titel</th>\n",
       "    </tr>\n",
       "  </thead>\n",
       "  <tbody>\n",
       "    <tr>\n",
       "      <th>0</th>\n",
       "      <td>no year</td>\n",
       "      <td>03391.txt</td>\n",
       "      <td></td>\n",
       "      <td>Indonesie? liet me nooit meer los : vijftig ja...</td>\n",
       "    </tr>\n",
       "    <tr>\n",
       "      <th>1</th>\n",
       "      <td>no year</td>\n",
       "      <td>03392.txt</td>\n",
       "      <td></td>\n",
       "      <td>De vergeten dagboeken</td>\n",
       "    </tr>\n",
       "    <tr>\n",
       "      <th>2</th>\n",
       "      <td>no year</td>\n",
       "      <td>03393.txt</td>\n",
       "      <td></td>\n",
       "      <td>Hij ging, kwam terug en keerde weer</td>\n",
       "    </tr>\n",
       "    <tr>\n",
       "      <th>3</th>\n",
       "      <td>no year</td>\n",
       "      <td>03394.txt</td>\n",
       "      <td></td>\n",
       "      <td>Herinneringen van een Roodborstje : verhalen u...</td>\n",
       "    </tr>\n",
       "    <tr>\n",
       "      <th>4</th>\n",
       "      <td>no year</td>\n",
       "      <td>03395.txt</td>\n",
       "      <td></td>\n",
       "      <td>Het reizende bataljon : herdenkingsboek 8 RS</td>\n",
       "    </tr>\n",
       "    <tr>\n",
       "      <th>...</th>\n",
       "      <td>...</td>\n",
       "      <td>...</td>\n",
       "      <td>...</td>\n",
       "      <td>...</td>\n",
       "    </tr>\n",
       "    <tr>\n",
       "      <th>571</th>\n",
       "      <td>no year</td>\n",
       "      <td>06003.txt</td>\n",
       "      <td></td>\n",
       "      <td>\"Ze spraken er niet over</td>\n",
       "    </tr>\n",
       "    <tr>\n",
       "      <th>572</th>\n",
       "      <td>no year</td>\n",
       "      <td>06004.txt</td>\n",
       "      <td></td>\n",
       "      <td>Van moederland naar vaderland</td>\n",
       "    </tr>\n",
       "    <tr>\n",
       "      <th>573</th>\n",
       "      <td>no problem</td>\n",
       "      <td>06005.txt</td>\n",
       "      <td>1983</td>\n",
       "      <td>Allen zwijgen (1983)</td>\n",
       "    </tr>\n",
       "    <tr>\n",
       "      <th>574</th>\n",
       "      <td>no year</td>\n",
       "      <td>06006.txt</td>\n",
       "      <td></td>\n",
       "      <td>Dat was jij, marinier! : de geschiedenis van d...</td>\n",
       "    </tr>\n",
       "    <tr>\n",
       "      <th>575</th>\n",
       "      <td>no problem</td>\n",
       "      <td>06007.txt</td>\n",
       "      <td>1947</td>\n",
       "      <td>Gedenkboek 4-11-R.I. (1947)</td>\n",
       "    </tr>\n",
       "  </tbody>\n",
       "</table>\n",
       "<p>576 rows × 4 columns</p>\n",
       "</div>"
      ],
      "text/plain": [
       "       probleem  corpus_nr  jaar  \\\n",
       "0       no year  03391.txt         \n",
       "1       no year  03392.txt         \n",
       "2       no year  03393.txt         \n",
       "3       no year  03394.txt         \n",
       "4       no year  03395.txt         \n",
       "..          ...        ...   ...   \n",
       "571     no year  06003.txt         \n",
       "572     no year  06004.txt         \n",
       "573  no problem  06005.txt  1983   \n",
       "574     no year  06006.txt         \n",
       "575  no problem  06007.txt  1947   \n",
       "\n",
       "                                                 titel  \n",
       "0    Indonesie? liet me nooit meer los : vijftig ja...  \n",
       "1                                De vergeten dagboeken  \n",
       "2                  Hij ging, kwam terug en keerde weer  \n",
       "3    Herinneringen van een Roodborstje : verhalen u...  \n",
       "4         Het reizende bataljon : herdenkingsboek 8 RS  \n",
       "..                                                 ...  \n",
       "571                           \"Ze spraken er niet over  \n",
       "572                      Van moederland naar vaderland  \n",
       "573                               Allen zwijgen (1983)  \n",
       "574  Dat was jij, marinier! : de geschiedenis van d...  \n",
       "575                        Gedenkboek 4-11-R.I. (1947)  \n",
       "\n",
       "[576 rows x 4 columns]"
      ]
     },
     "execution_count": 60,
     "metadata": {},
     "output_type": "execute_result"
    }
   ],
   "source": [
    "df"
   ]
  },
  {
   "cell_type": "code",
   "execution_count": 62,
   "id": "234ae104",
   "metadata": {},
   "outputs": [],
   "source": [
    "df.to_excel(\"metaissues.xlsx\")"
   ]
  }
 ],
 "metadata": {
  "kernelspec": {
   "display_name": "Python 3 (ipykernel)",
   "language": "python",
   "name": "python3"
  },
  "language_info": {
   "codemirror_mode": {
    "name": "ipython",
    "version": 3
   },
   "file_extension": ".py",
   "mimetype": "text/x-python",
   "name": "python",
   "nbconvert_exporter": "python",
   "pygments_lexer": "ipython3",
   "version": "3.7.11"
  }
 },
 "nbformat": 4,
 "nbformat_minor": 5
}
