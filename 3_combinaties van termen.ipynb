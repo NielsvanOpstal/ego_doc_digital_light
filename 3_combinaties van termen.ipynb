{
 "cells": [
  {
   "cell_type": "markdown",
   "metadata": {},
   "source": [
    "# 3. Zoeken naar een combinatie van termen\n",
    "Als je op zoek bent naar samenhang tussen twee zaken wil je testen of de termen die naar die zaken verwijzen inderdaad in combinatie met elkaar voorkomen. Dan moet je bepalen op welke varianten van die twee termen je wilt zoeken en wat de minimale en maximale afstand tussen die termen moet zijn. \n",
    "\n",
    "In de onderstaande code kun je op de eerste plaats twee zoektermen opgeven, als waarden van `search_term1` en `search_term2`. De variabele `window` specificeert de maximale afstand tussen deze twee woorden. \n",
    "\n",
    "De code gaat vervolgens op zoek naar alle passages van de opgegeven lengte waar de beide zoektermen in voorkomen. De gevonden passages worden in dit notebook getoond wanneer de code wordt uitgevoerd, en de resultaten worden eveneens weggeschreven in een bestand met de naam 'cooccurrence.txt'."
   ]
  },
  {
   "cell_type": "code",
   "execution_count": 4,
   "metadata": {},
   "outputs": [],
   "source": [
    "from kitlvTdm import *\n",
    "import os\n",
    "from os.path import join\n",
    "import re\n",
    "import pandas as pd"
   ]
  },
  {
   "cell_type": "code",
   "execution_count": 5,
   "metadata": {
    "scrolled": true
   },
   "outputs": [
    {
     "ename": "NameError",
     "evalue": "name 'pd' is not defined",
     "output_type": "error",
     "traceback": [
      "\u001b[0;31m---------------------------------------------------------------------------\u001b[0m",
      "\u001b[0;31mNameError\u001b[0m                                 Traceback (most recent call last)",
      "\u001b[0;32m/var/folders/y8/1bfcvt_x1dqfn7_v2f312nqm0000gn/T/ipykernel_54963/2779704455.py\u001b[0m in \u001b[0;36m<module>\u001b[0;34m\u001b[0m\n\u001b[1;32m      7\u001b[0m \u001b[0mpath\u001b[0m \u001b[0;34m=\u001b[0m \u001b[0;34m\"Corpus\"\u001b[0m\u001b[0;34m\u001b[0m\u001b[0;34m\u001b[0m\u001b[0m\n\u001b[1;32m      8\u001b[0m \u001b[0;34m\u001b[0m\u001b[0m\n\u001b[0;32m----> 9\u001b[0;31m \u001b[0mdf\u001b[0m \u001b[0;34m=\u001b[0m \u001b[0mpd\u001b[0m\u001b[0;34m.\u001b[0m\u001b[0mDataFrame\u001b[0m\u001b[0;34m(\u001b[0m\u001b[0mcolumns\u001b[0m \u001b[0;34m=\u001b[0m \u001b[0;34m[\u001b[0m\u001b[0;34m'count_within_document'\u001b[0m\u001b[0;34m,\u001b[0m\u001b[0;34m'file'\u001b[0m\u001b[0;34m,\u001b[0m\u001b[0;34m'title'\u001b[0m\u001b[0;34m,\u001b[0m\u001b[0;34m'fragment'\u001b[0m\u001b[0;34m]\u001b[0m\u001b[0;34m)\u001b[0m\u001b[0;34m\u001b[0m\u001b[0;34m\u001b[0m\u001b[0m\n\u001b[0m\u001b[1;32m     10\u001b[0m \u001b[0;32mfor\u001b[0m \u001b[0mfile\u001b[0m \u001b[0;32min\u001b[0m \u001b[0mos\u001b[0m\u001b[0;34m.\u001b[0m\u001b[0mlistdir\u001b[0m\u001b[0;34m(\u001b[0m \u001b[0mpath\u001b[0m \u001b[0;34m)\u001b[0m\u001b[0;34m:\u001b[0m\u001b[0;34m\u001b[0m\u001b[0;34m\u001b[0m\u001b[0m\n\u001b[1;32m     11\u001b[0m \u001b[0;34m\u001b[0m\u001b[0m\n",
      "\u001b[0;31mNameError\u001b[0m: name 'pd' is not defined"
     ]
    }
   ],
   "source": [
    "# Defineer de zoektermen en de seach window\n",
    "search_term1 = 'soldaat'\n",
    "search_term2 = 'geweer'\n",
    "window = 30\n",
    "\n",
    "# In deze map gaat er gezocht worden\n",
    "path = \"Corpus\"\n",
    "\n",
    "df = pd.DataFrame(columns = ['count_within_document','file','title','fragment'])\n",
    "for file in os.listdir( path ):\n",
    "\n",
    "# Het zoeken is hoofdletter gevoelig, daarom worden alle hoofdletters in kleine letters veranderd\n",
    " search_term1 = search_term1.lower()\n",
    " search_term2 = search_term2.lower()\n",
    "\n",
    "pattern = '####'\n",
    "\n",
    "\n",
    "# Voor ieder bestand in de eerder gedefineerde map\n",
    "for file in os.listdir( path ):\n",
    "    \n",
    "    # Laat zien welk bestand het programma aan het lezen is\n",
    "    print( \"Reading \" + file + ' ... ' )\n",
    "    \n",
    "    # Maak een lijst aan waar alle fragmenten in komen\n",
    "    fragments = []\n",
    "    \n",
    "    # Als het bestand een tekst bestand is:\n",
    "    if re.search( 'txt$' , file ):\n",
    "        \n",
    "        # Open het bestand en laad de tekst in de variabele 'fullText'\n",
    "        with open( join( path , file) , encoding = 'utf-8') as egodocument:\n",
    "            fullText = egodocument.read()\n",
    "            \n",
    "        # Zoek en sla alleen de tekst op van iedere bladzijde (bijvoorbeeld niet het bladzijde nummer)\n",
    "        fullText = re.sub( 'page\\s+\\d+', '' , fullText )\n",
    "        \n",
    "        # Verander alle hoofdletters in kleine letters\n",
    "        fullText =  fullText.lower()\n",
    "        \n",
    "        # Identificeer de losse woorden\n",
    "        words = tokenise(fullText)\n",
    "        \n",
    "        # Voor iedere locatie van een woord\n",
    "        for i in range( 0 , (len(words)) ):\n",
    "            \n",
    "            # creeer een fragment van de grootte die gespecificeerd is in 'window'\n",
    "            fragment = ' '.join( words[ i : window+i ] )\n",
    "            \n",
    "            # als de gezochte woorden beide voorkomen als los woord in het fragment\n",
    "            if re.search( r'\\b{}\\b'.format(search_term1) , fragment , re.IGNORECASE ) and re.search( r'\\b{}\\b'.format(search_term2) , fragment , re.IGNORECASE ):\n",
    "                \n",
    "                '''\n",
    "                Dit stukje zorgt ervoor dat een fragment niet vaker gevonden wordt. Als er één woord tussen soldaat en geweer zit\n",
    "                en de 'window' is 30 zijn er 27 verschillende fragmenten voor dezelfde gevonden combinatie.\n",
    "                Om dit te voorkomen wordt er gekeken of in een gevonden fragment de zoektermen op een andere manier tot elkaar staan\n",
    "                en daarmee ook daadwerkelijk een nieuw fragment zijn.\n",
    "                \n",
    "                ! Dit herschrijven\n",
    "                \n",
    "                '''\n",
    "                if not( re.search( pattern , fragment , re.IGNORECASE ) ):\n",
    "                    \n",
    "                    # Voeg het gevonden fragment toe aan de lijst fragments\n",
    "                    fragments.append( fragment )\n",
    "            \n",
    "                    # Voor ieder nummer tussen 0 en het nummer 'window'\n",
    "                    for findex in range( 0 , window ):\n",
    "                        \n",
    "                        # Als de het patroon al bekent is stop met de bovenstaande 'for loop'\n",
    "                        if re.search( r'\\b{}\\b'.format(search_term1) , words[i + findex] , re.IGNORECASE ) or re.search( r'\\b{}\\b'.format(search_term2) , words[i + findex] , re.IGNORECASE ):\n",
    "                            break\n",
    "                    \n",
    "                    # Anders update de variabele pattern naar het nieuw gevonden patroon\n",
    "                    pattern = ' '.join( words[ i + findex : window+i  ] )\n",
    "\n",
    "            # Tel een op bij de plek waar we zijn bij het doorzoeken van de woorden (bovenste for loop)\n",
    "            i = window + i\n",
    "            \n",
    "    documentCount = 0\n",
    "    # Als er resultaten gevonden zijn\n",
    "    if len(fragments) > 0:\n",
    "        \n",
    "        # Vind de titel van het boek en sla het op in de variabele 'title'\n",
    "        title = showTitle(file)\n",
    "        \n",
    "        # Laat het volgende zien met de titel en de naam van het bestand\n",
    "        print(\"Occurrences in {} ({})\\n\".format( title , file ))\n",
    "        \n",
    "        # Voor ieder gevonden fragment \n",
    "        for fragment in fragments:\n",
    "            \n",
    "            documentCount += 1\n",
    "            \n",
    "            # Laat het fragment zien\n",
    "#             print(h + '\\n')\n",
    "            \n",
    "            # Schrijf het fragment op in het bestand\n",
    "            df = df.append({'count_within_document' : documentCount,'file' : file, 'title' : title, 'fragment' : fragment}, ignore_index = True)\n",
    "\n",
    "## BESTAND VERANDEREN\n",
    "df.to_excel(\"testcoocurence.xlsx\")\n",
    "print(\"Excel file saved as\")\n",
    "out.close()\n",
    "\n",
    "\n"
   ]
  },
  {
   "cell_type": "markdown",
   "metadata": {},
   "source": [
    "**Ofening 3: Ga, met behulp van de bovenstaande code, op zoek naar passages waarin twee relevante zoektermen in voorkomen. Pas de waarden van de variabelen `search_term1` en `search_term2` aan. Indien nodig kun je ook de waarde van `window` aanpassen.**"
   ]
  }
 ],
 "metadata": {
  "kernelspec": {
   "display_name": "Python 3 (ipykernel)",
   "language": "python",
   "name": "python3"
  },
  "language_info": {
   "codemirror_mode": {
    "name": "ipython",
    "version": 3
   },
   "file_extension": ".py",
   "mimetype": "text/x-python",
   "name": "python",
   "nbconvert_exporter": "python",
   "pygments_lexer": "ipython3",
   "version": "3.8.12"
  }
 },
 "nbformat": 4,
 "nbformat_minor": 4
}
